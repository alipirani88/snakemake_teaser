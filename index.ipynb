{
 "cells": [
  {
   "cell_type": "markdown",
   "id": "a6cecd68-ff14-43bf-a038-6b6af8813c76",
   "metadata": {},
   "source": [
    "## Getting started with Snakemake workflows for automated bioinformatics analysis.\n",
    "\n",
    "## Author: Ali Pirani\n",
    "\n",
    "Modified from https://github.com/ctb/2019-snakemake-ucdavis\n",
    "\n",
    "## Software we're going to use\n",
    "\n",
    "We're going to be using [conda](https://conda.io/en/latest/) and [snakemake](https://snakemake.readthedocs.io/en/stable/), a well as packages from [bioconda](https://bioconda.github.io). If you wanted to run all of this on your own computer, you'll need to follow the bioconda install instructions.\n",
    "\n",
    "We'll be implementing a short read quality check and trimming pipeline, using [fastqc](https://www.bioinformatics.babraham.ac.uk/projects/fastqc/), [trimmomatic](http://www.usadellab.org/cms/?page=trimmomatic), and [multiqc](https://multiqc.info/). No worries if you don't know what any of this means, it's not super critical to the snakemake side of things :)\n",
    "\n",
    "You can see the full set of installed software requirements [here](https://github.com/ctb/2019-snakemake-ucdavis/blob/master/binder/environment.yml), in a conda `environment.yml` file.\n",
    "\n",
    "You could use this install file to run everything we're doing today on your laptop, with: \n",
    "```\n",
    "conda env create --file environment.yml -n smake\n",
    "conda activate smake\n",
    "```\n",
    "\n",
    "Why use a workflow management tool?\n",
    "\n",
    "- Dependency management\n",
    "- Reentrancy - start back up where you left off\n",
    "- Reusable\n",
    "- Documented\n",
    "- Portable\n",
    "\n",
    "There are many to choose from: https://github.com/pditommaso/awesome-pipeline\n",
    "\n",
    "## Tasks we are going to do\n",
    "\n",
    "Explain!\n",
    "\n",
    "## Download some data\n",
    "\n",
    "Execute the below cell to fetch some data."
   ]
  },
  {
   "cell_type": "code",
   "execution_count": 9,
   "id": "abaad171-6a7a-47db-8178-bcb10f7480ac",
   "metadata": {},
   "outputs": [
    {
     "name": "stdout",
     "output_type": "stream",
     "text": [
      "  % Total    % Received % Xferd  Average Speed   Time    Time     Time  Current\n",
      "                                 Dload  Upload   Total   Spent    Left  Speed\n",
      "100   190  100   190    0     0   2676      0 --:--:-- --:--:-- --:--:--  2676\n",
      "100 7689k  100 7689k    0     0  46.6M      0 --:--:-- --:--:-- --:--:-- 46.6M\n",
      "  % Total    % Received % Xferd  Average Speed   Time    Time     Time  Current\n",
      "                                 Dload  Upload   Total   Spent    Left  Speed\n",
      "100   190  100   190    0     0    833      0 --:--:-- --:--:-- --:--:--   833\n",
      "100 5262k  100 5262k    0     0  10.3M      0 --:--:-- --:--:-- --:--:-- 10.3M\n",
      "  % Total    % Received % Xferd  Average Speed   Time    Time     Time  Current\n",
      "                                 Dload  Upload   Total   Spent    Left  Speed\n",
      "100   190  100   190    0     0    657      0 --:--:-- --:--:-- --:--:--   655\n",
      "100 8160k  100 8160k    0     0  13.7M      0 --:--:-- --:--:-- --:--:-- 13.7M\n",
      "  % Total    % Received % Xferd  Average Speed   Time    Time     Time  Current\n",
      "                                 Dload  Upload   Total   Spent    Left  Speed\n",
      "100   190  100   190    0     0    664      0 --:--:-- --:--:-- --:--:--   666\n",
      "100 5483k  100 5483k    0     0   9.8M      0 --:--:-- --:--:-- --:--:-- 76.4M\n"
     ]
    }
   ],
   "source": [
    "!curl -L https://github.com/ctb/2019-snakemake-ucdavis/raw/9db09bc0b6a3469f8a0d4996d4b2995bf36e5d27/data/0Hour_001_1.fq.gz > data/0Hour_001_1.fq.gz\n",
    "!curl -L https://github.com/ctb/2019-snakemake-ucdavis/raw/9db09bc0b6a3469f8a0d4996d4b2995bf36e5d27/data/6Hour_001_1.fq.gz > data/6Hour_001_1.fq.gz\n",
    "!curl -L https://github.com/ctb/2019-snakemake-ucdavis/raw/9db09bc0b6a3469f8a0d4996d4b2995bf36e5d27/data/0Hour_001_2.fq.gz > data/0Hour_001_2.fq.gz\n",
    "!curl -L https://github.com/ctb/2019-snakemake-ucdavis/raw/9db09bc0b6a3469f8a0d4996d4b2995bf36e5d27/data/6Hour_001_2.fq.gz > data/6Hour_001_2.fq.gz"
   ]
  },
  {
   "cell_type": "code",
   "execution_count": 10,
   "id": "1a6d4028-e4e3-4c51-99bd-c135bc81f54b",
   "metadata": {},
   "outputs": [
    {
     "name": "stdout",
     "output_type": "stream",
     "text": [
      "0Hour_001_1.fq.gz  0Hour_001_2.fq.gz  6Hour_001_1.fq.gz  6Hour_001_2.fq.gz\n"
     ]
    }
   ],
   "source": [
    "!ls data/"
   ]
  },
  {
   "cell_type": "code",
   "execution_count": null,
   "id": "fb47bc45-e12a-4bf3-b51b-3085529a989f",
   "metadata": {},
   "outputs": [],
   "source": []
  }
 ],
 "metadata": {
  "kernelspec": {
   "display_name": "Python 3",
   "language": "python",
   "name": "python3"
  },
  "language_info": {
   "codemirror_mode": {
    "name": "ipython",
    "version": 3
   },
   "file_extension": ".py",
   "mimetype": "text/x-python",
   "name": "python",
   "nbconvert_exporter": "python",
   "pygments_lexer": "ipython3",
   "version": "3.8.8"
  },
  "toc-autonumbering": true,
  "toc-showcode": false,
  "toc-showmarkdowntxt": false
 },
 "nbformat": 4,
 "nbformat_minor": 5
}
